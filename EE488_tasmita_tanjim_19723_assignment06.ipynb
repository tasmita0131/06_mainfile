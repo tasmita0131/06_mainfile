{
  "nbformat": 4,
  "nbformat_minor": 0,
  "metadata": {
    "colab": {
      "provenance": [],
      "authorship_tag": "ABX9TyO6m3CEcrKRYi9/kfXCGd2X",
      "include_colab_link": true
    },
    "kernelspec": {
      "name": "python3",
      "display_name": "Python 3"
    },
    "language_info": {
      "name": "python"
    }
  },
  "cells": [
    {
      "cell_type": "markdown",
      "metadata": {
        "id": "view-in-github",
        "colab_type": "text"
      },
      "source": [
        "<a href=\"https://colab.research.google.com/github/tasmita0131/06_mainfile/blob/main/EE488_tasmita_tanjim_19723_assignment06.ipynb\" target=\"_parent\"><img src=\"https://colab.research.google.com/assets/colab-badge.svg\" alt=\"Open In Colab\"/></a>"
      ]
    },
    {
      "cell_type": "code",
      "execution_count": 3,
      "metadata": {
        "colab": {
          "base_uri": "https://localhost:8080/"
        },
        "id": "9d1v1IS-KsFQ",
        "outputId": "788d042d-c383-42f7-d0d3-28c52c6431f0"
      },
      "outputs": [
        {
          "output_type": "stream",
          "name": "stdout",
          "text": [
            "Add 5+3: 8\n",
            "Add 255+1 (overflow): 0\n",
            "Sub 8-2: 6\n",
            "Mul 5*3: 15\n",
            "Div 9/3: 3\n",
            "Left shift 5<<1: 10\n",
            "Right shift 8>>1: 4\n",
            "Rotate left 128: 1\n",
            "Rotate right 1: 128\n",
            "AND 12&10: 8\n",
            "OR 12|10: 14\n",
            "XOR 12^10: 6\n",
            "NOR 12 nor 10: 241\n",
            "NAND 12 nand 10: 247\n",
            "XNOR 12 xnor 10: 249\n",
            "Compare 7>5: 1\n",
            "Compare 10==10: 1\n"
          ]
        }
      ],
      "source": [
        "def alu(a, b, opcode):\n",
        "    # Ensure 8-bit inputs\n",
        "    A = a & 0xFF\n",
        "    B = b & 0xFF\n",
        "\n",
        "    if opcode == '0000':      # A + B\n",
        "        return (A + B) & 0xFF\n",
        "    elif opcode == '0001':    # A - B\n",
        "        return (A - B) & 0xFF\n",
        "    elif opcode == '0010':    # A * B\n",
        "        return (A * B) & 0xFF\n",
        "    elif opcode == '0011':    # A / B\n",
        "        return (A // B) if B != 0 else 0\n",
        "    elif opcode == '0100':    # A << 1\n",
        "        return (A << 1) & 0xFF\n",
        "    elif opcode == '0101':    # A >> 1\n",
        "        return A >> 1\n",
        "    elif opcode == '0110':    # Rotate A left by 1\n",
        "        return ((A << 1) | (A >> 7)) & 0xFF\n",
        "    elif opcode == '0111':    # Rotate A right by 1\n",
        "        return ((A >> 1) | ((A & 1) << 7)) & 0xFF\n",
        "    elif opcode == '1000':    # A AND B\n",
        "        return A & B\n",
        "    elif opcode == '1001':    # A OR B\n",
        "        return A | B\n",
        "    elif opcode == '1010':    # A XOR B\n",
        "        return A ^ B\n",
        "    elif opcode == '1011':    # A NOR B\n",
        "        return ~(A | B) & 0xFF\n",
        "    elif opcode == '1100':    # A NAND B\n",
        "        return ~(A & B) & 0xFF\n",
        "    elif opcode == '1101':    # A XNOR B\n",
        "        return ~(A ^ B) & 0xFF\n",
        "    elif opcode == '1110':    # A > B\n",
        "        return 1 if A > B else 0\n",
        "    elif opcode == '1111':    # A == B\n",
        "        return 1 if A == B else 0\n",
        "    else:\n",
        "        return None  # Invalid opcode\n",
        "\n",
        "# Test examples with compact output\n",
        "print(\"Add 5+3:\", alu(5, 3, '0000'))\n",
        "print(\"Add 255+1 (overflow):\", alu(255, 1, '0000'))\n",
        "print(\"Sub 8-2:\", alu(8, 2, '0001'))\n",
        "print(\"Mul 5*3:\", alu(5, 3, '0010'))\n",
        "print(\"Div 9/3:\", alu(9, 3, '0011'))\n",
        "print(\"Left shift 5<<1:\", alu(5, 0, '0100'))\n",
        "print(\"Right shift 8>>1:\", alu(8, 0, '0101'))\n",
        "print(\"Rotate left 128:\", alu(128, 0, '0110'))\n",
        "print(\"Rotate right 1:\", alu(1, 0, '0111'))\n",
        "print(\"AND 12&10:\", alu(12, 10, '1000'))\n",
        "print(\"OR 12|10:\", alu(12, 10, '1001'))\n",
        "print(\"XOR 12^10:\", alu(12, 10, '1010'))\n",
        "print(\"NOR 12 nor 10:\", alu(12, 10, '1011'))\n",
        "print(\"NAND 12 nand 10:\", alu(12, 10, '1100'))\n",
        "print(\"XNOR 12 xnor 10:\", alu(12, 10, '1101'))\n",
        "print(\"Compare 7>5:\", alu(7, 5, '1110'))\n",
        "print(\"Compare 10==10:\", alu(10, 10, '1111'))"
      ]
    },
    {
      "cell_type": "code",
      "source": [],
      "metadata": {
        "id": "CEi_js3DXGZN"
      },
      "execution_count": null,
      "outputs": []
    },
    {
      "cell_type": "code",
      "source": [
        "def arithmetic_right_shift(A, Q, Q1):\n",
        "    combined = A + Q + [Q1]\n",
        "    shifted = [combined[0]] + combined[:-1]\n",
        "    return shifted[:4], shifted[4:8], shifted[8]\n",
        "\n",
        "def add_binary(A, B):\n",
        "    result = [0] * len(A)\n",
        "    carry = 0\n",
        "    for i in range(len(A) - 1, -1, -1):\n",
        "        total = A[i] + B[i] + carry\n",
        "        result[i] = total % 2\n",
        "        carry = total // 2\n",
        "    return result[-4:]  # Keep only last 4 bits\n",
        "\n",
        "def twos_complement(bin_list):\n",
        "    inverted = [1 - bit for bit in bin_list]\n",
        "    one = [0] * (len(bin_list) - 1) + [1]\n",
        "    return add_binary(inverted, one)\n",
        "\n",
        "def booth_multiplier(multiplicand, multiplier):\n",
        "    A = [0, 0, 0, 0]\n",
        "    Q = [int(x) for x in f\"{abs(multiplier):04b}\"]\n",
        "    M = [int(x) for x in f\"{abs(multiplicand):04b}\"]\n",
        "    Q1 = 0\n",
        "    count = 4\n",
        "\n",
        "    if multiplicand < 0:\n",
        "        M = twos_complement(M)\n",
        "    if multiplier < 0:\n",
        "        Q = twos_complement(Q)\n",
        "\n",
        "    while count > 0:\n",
        "        if Q[-1] == 1 and Q1 == 0:\n",
        "            A = add_binary(A, twos_complement(M))  # A = A - M\n",
        "        elif Q[-1] == 0 and Q1 == 1:\n",
        "            A = add_binary(A, M)  # A = A + M\n",
        "        A, Q, Q1 = arithmetic_right_shift(A, Q, Q1)\n",
        "        count -= 1\n",
        "\n",
        "    result = A + Q\n",
        "    value = int(\"\".join(map(str, result)), 2)\n",
        "    if result[0] == 1:\n",
        "        value -= (1 << 8)\n",
        "    return value\n",
        "\n",
        "\n",
        "def shift_add_multiplier(multiplicand, multiplier):\n",
        "    product = 0\n",
        "    negative_result = (multiplicand < 0) ^ (multiplier < 0)\n",
        "    multiplicand = abs(multiplicand)\n",
        "    multiplier = abs(multiplier)\n",
        "\n",
        "    for i in range(4):\n",
        "        if (multiplier >> i) & 1:\n",
        "            product += (multiplicand << i)\n",
        "\n",
        "    if negative_result:\n",
        "        product = -product\n",
        "    return product & 0xFF  # Limit to 8-bit result\n",
        "\n",
        "\n",
        "if __name__ == \"__main__\":\n",
        "    print(\"Booth’s Algorithm Results:\")\n",
        "    print(\" -3 * 2 =\", booth_multiplier(-3, 2))\n",
        "    print(\" -4 * -2 =\", booth_multiplier(-4, -2))\n",
        "    print(\" 5 * -3 =\", booth_multiplier(5, -3))\n",
        "\n",
        "    print(\"\\nShift-and-Add Results:\")\n",
        "    print(\" 3 * 2 =\", shift_add_multiplier(3, 2))\n",
        "    print(\" 7 * 4 =\", shift_add_multiplier(7, 4))\n",
        "    print(\" 15 * 15 =\", shift_add_multiplier(15, 15))\n"
      ],
      "metadata": {
        "colab": {
          "base_uri": "https://localhost:8080/"
        },
        "id": "3AY7LpyQXGc0",
        "outputId": "04e583be-f610-494c-cc1d-9a52ca9290b9"
      },
      "execution_count": 12,
      "outputs": [
        {
          "output_type": "stream",
          "name": "stdout",
          "text": [
            "Booth’s Algorithm Results:\n",
            " -3 * 2 = -6\n",
            " -4 * -2 = 8\n",
            " 5 * -3 = -15\n",
            "\n",
            "Shift-and-Add Results:\n",
            " 3 * 2 = 6\n",
            " 7 * 4 = 28\n",
            " 15 * 15 = 225\n"
          ]
        }
      ]
    }
  ]
}